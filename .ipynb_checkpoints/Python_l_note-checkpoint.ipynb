{
 "cells": [
  {
   "cell_type": "markdown",
   "metadata": {},
   "source": [
    "## 第一部分：map() 和 reduce() 函数的使用\n"
   ]
  },
  {
   "cell_type": "markdown",
   "metadata": {},
   "source": [
    "###  练习1 ：练习编写一个str to int 的函数"
   ]
  },
  {
   "cell_type": "code",
   "execution_count": 23,
   "metadata": {
    "collapsed": true
   },
   "outputs": [],
   "source": [
    "def str_to_int(c):\n",
    "    def sum_10(x,y):\n",
    "        return 10*x+y\n",
    "    def char_to_num(c):\n",
    "        return {'0':0,'1':1,'2':2,'3':3,'4':4,'5':5,'6':6,'7':7,'8':8,'9':9}[c]\n",
    "    return reduce(sum_10, map(char_to_num, c))    "
   ]
  },
  {
   "cell_type": "code",
   "execution_count": 25,
   "metadata": {},
   "outputs": [
    {
     "data": {
      "text/plain": [
       "1357"
      ]
     },
     "execution_count": 25,
     "metadata": {},
     "output_type": "execute_result"
    }
   ],
   "source": [
    "str_to_int('1357')\n",
    "## 注意：代码最后一行 map 函数在调用自定义函数 char_to_num 时，只写函数名，不写参数。\n",
    "## 调用时只写函数名，如果加上参数代码就会直接执行，而此时我们只希望调用，不希望执行"
   ]
  },
  {
   "cell_type": "markdown",
   "metadata": {},
   "source": [
    "### 练习2 : 利用map()函数，把用户输入的不规范的英文名，变为首字母大写，其他小写的规范名"
   ]
  },
  {
   "cell_type": "code",
   "execution_count": 70,
   "metadata": {},
   "outputs": [
    {
     "data": {
      "text/plain": [
       "['Adam', 'Lisa', 'Bart']"
      ]
     },
     "execution_count": 70,
     "metadata": {},
     "output_type": "execute_result"
    }
   ],
   "source": [
    "## 方法一：利用 str.title 函数\n",
    "def co_name(name):\n",
    "    return map(str.title,name)\n",
    "co_name(['adam','LISA','barT']) #输入必须是列表list形式"
   ]
  },
  {
   "cell_type": "code",
   "execution_count": 71,
   "metadata": {},
   "outputs": [
    {
     "data": {
      "text/plain": [
       "['Adam', 'Lisa', 'Bart', 'Ghgh']"
      ]
     },
     "execution_count": 71,
     "metadata": {},
     "output_type": "execute_result"
    }
   ],
   "source": [
    "## 方法二：编写函数\n",
    "def re_name(name1):\n",
    "    return map(lambda x:x[0].upper()+x[1:].lower(),name1)\n",
    "re_name(['adam','LISA','barT','GhGh'])"
   ]
  },
  {
   "cell_type": "markdown",
   "metadata": {},
   "source": [
    "### 练习3：<code>sum()</code>函数可以接受list并求和，编写一个<code>prod()</code>函数，可以接受list并利用reduce()求积"
   ]
  },
  {
   "cell_type": "code",
   "execution_count": 74,
   "metadata": {},
   "outputs": [
    {
     "data": {
      "text/plain": [
       "240"
      ]
     },
     "execution_count": 74,
     "metadata": {},
     "output_type": "execute_result"
    }
   ],
   "source": [
    "def prod(num):\n",
    "    def mul(x,y):\n",
    "        return x*y\n",
    "    return reduce(mul,num)\n",
    "prod([2,4,5])\n",
    "\n",
    "#如果使用lambda\n",
    "def prod1(n):\n",
    "    return reduce(lambda x,y:x*y,n)\n",
    "prod1([2,4,5,6])    "
   ]
  },
  {
   "cell_type": "markdown",
   "metadata": {},
   "source": [
    "### 总结：<code>map,reduce,lambda</code> 函数均可以使代码更加简洁，但也可以通过定义函数实现"
   ]
  },
  {
   "cell_type": "code",
   "execution_count": null,
   "metadata": {
    "collapsed": true
   },
   "outputs": [],
   "source": []
  }
 ],
 "metadata": {
  "kernelspec": {
   "display_name": "Python 2",
   "language": "python",
   "name": "python2"
  },
  "language_info": {
   "codemirror_mode": {
    "name": "ipython",
    "version": 2
   },
   "file_extension": ".py",
   "mimetype": "text/x-python",
   "name": "python",
   "nbconvert_exporter": "python",
   "pygments_lexer": "ipython2",
   "version": "2.7.13"
  }
 },
 "nbformat": 4,
 "nbformat_minor": 2
}
